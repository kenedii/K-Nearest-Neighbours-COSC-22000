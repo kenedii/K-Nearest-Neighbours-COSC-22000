{
  "nbformat": 4,
  "nbformat_minor": 0,
  "metadata": {
    "colab": {
      "provenance": []
    },
    "kernelspec": {
      "name": "python3",
      "display_name": "Python 3"
    },
    "language_info": {
      "name": "python"
    }
  },
  "cells": [
    {
      "cell_type": "code",
      "execution_count": 12,
      "metadata": {
        "id": "wtOosr3b3idr"
      },
      "outputs": [],
      "source": [
        "import numpy as np\n",
        "import matplotlib.pyplot as plt\n",
        "from statistics import mode"
      ]
    },
    {
      "cell_type": "code",
      "source": [
        "# Initializing the data\n",
        "points = {0: [(3,4),(4,5),(7,3), (3,6), (5,3)],\n",
        "          1: [(-3,-4), (-4, -2), (-3,-8), (-5,-6), (-3,-3), (-3,-2)] }\n",
        "\n",
        "# Dominos ordered pairs\n",
        "X_dominos = [i[0] for i in points[0]]\n",
        "Y_dominos = [i[1] for i in points[0]]\n",
        "dominos= [X_dominos, Y_dominos]\n",
        "\n",
        "# Pizza Hut ordered pairs\n",
        "X_phut = [i[0] for i in points[1]]\n",
        "Y_phut = [i[1] for i in points[1]]\n",
        "phut = [X_phut, Y_phut]\n",
        "\n",
        "data = {'dominos':dominos, 'phut':phut, 'points':points} # Put all data into one dictionary"
      ],
      "metadata": {
        "id": "qgpTLFSm3yFJ"
      },
      "execution_count": 13,
      "outputs": []
    },
    {
      "cell_type": "code",
      "source": [
        "# Set the value of the new point to check the class of\n",
        "new_point = (-2, -6)"
      ],
      "metadata": {
        "id": "80hD7AtP37q5"
      },
      "execution_count": 14,
      "outputs": []
    },
    {
      "cell_type": "code",
      "source": [
        "# Set the value of \"k\". Number of nearest neighbours\n",
        "k = 3"
      ],
      "metadata": {
        "id": "l69HUfyx3_hj"
      },
      "execution_count": 15,
      "outputs": []
    },
    {
      "cell_type": "code",
      "source": [
        "def new_point_class(new_point, data, k=3, classifier='mode'):\n",
        "  results = [] # Initialize results list\n",
        "  #print('(Distance, Class) pair')\n",
        "  for Class in (data['points']): # Iterate through every class\n",
        "    for p in data['points'][Class]: # Iterate through each point in selected class\n",
        "      dist = abs(p[0] - new_point[0]) + abs(p[1] - new_point[1]) # Calculate the manhattan distance from point to new point\n",
        "      #print(dist, Class)\n",
        "      results.append([dist,Class]) # Append [manhatten distance, Class] pair to the results list\n",
        "\n",
        "  results.sort() # Sort the distances to each point from least to greatest\n",
        "\n",
        "  k_nearest = results[:k] # Assign the k nearest neighbours (distance, class) to the k_nearest variable\n",
        "  k_nearest\n",
        "\n",
        "  if classifier == 'mode': # Uses the mode class of the k nearest neighbours to classify the new point\n",
        "    second_numbers = [pair[1] for pair in k_nearest] # Extract the second number (class) from each pair\n",
        "\n",
        "    cl = mode(second_numbers) # Calculate the mode of the second numbers (Mode of the class of the K nearest neighbours)\n",
        "    #print(cl)\n",
        "    if cl == 0:\n",
        "        print(f'The mode of {k} nearest neighbours is {cl}. The new point belongs to the Dominos class.')\n",
        "        return 'Dominos'\n",
        "    elif cl == 1:\n",
        "        print(f'The mode of {k} nearest neighbours is {cl}. The new point belongs to the Pizza Hut class.')\n",
        "        return 'Pizza Hut'\n",
        "\n",
        "  elif classifier == 'sum': # Uses the sum of the binary class representation of the k nearest neighbours to classify the new point\n",
        "    sum = 0\n",
        "    for i in range(len(k_nearest)):\n",
        "      sum = sum+k_nearest[i][1]\n",
        "    print(f'The sum of the nearest neighbours classes is: {sum}')\n",
        "    if sum > (k/2): # If the sum is greater than half the value of k, the class must be '1'\n",
        "      return 'Pizza Hut'\n",
        "    else:\n",
        "      return 'Dominos'"
      ],
      "metadata": {
        "id": "OXWlfaFM4B8O"
      },
      "execution_count": 19,
      "outputs": []
    },
    {
      "cell_type": "code",
      "source": [
        "print( new_point_class(new_point, data, k, classifier='mode') )\n",
        "print( new_point_class(new_point, data, k, classifier='sum') )"
      ],
      "metadata": {
        "colab": {
          "base_uri": "https://localhost:8080/"
        },
        "id": "bAKRZjCa8TtW",
        "outputId": "3aad48e2-27a2-4026-c8b0-584efe78068c"
      },
      "execution_count": 17,
      "outputs": [
        {
          "output_type": "stream",
          "name": "stdout",
          "text": [
            "The mode of 3 nearest neighbours is 1. The new point belongs to the Pizza Hut class.\n",
            "Pizza Hut\n",
            "The sum of the nearest neighbours classes is: 3\n",
            "Pizza Hut\n"
          ]
        }
      ]
    },
    {
      "cell_type": "code",
      "source": [
        "plt.scatter(X_dominos, Y_dominos, c='g')\n",
        "plt.scatter(X_phut, Y_phut, c='b')\n",
        "plt.scatter(new_point[0], new_point[1], c='r')"
      ],
      "metadata": {
        "colab": {
          "base_uri": "https://localhost:8080/",
          "height": 448
        },
        "id": "64ogljJO9lZ6",
        "outputId": "f5a9b244-d25f-4ca5-c48f-cb3fb1d5aea9"
      },
      "execution_count": 18,
      "outputs": [
        {
          "output_type": "execute_result",
          "data": {
            "text/plain": [
              "<matplotlib.collections.PathCollection at 0x7ff93e71a3b0>"
            ]
          },
          "metadata": {},
          "execution_count": 18
        },
        {
          "output_type": "display_data",
          "data": {
            "text/plain": [
              "<Figure size 640x480 with 1 Axes>"
            ],
            "image/png": "[encoded data removed]"
          },
          "metadata": {}
        }
      ]
    }
  ]
}